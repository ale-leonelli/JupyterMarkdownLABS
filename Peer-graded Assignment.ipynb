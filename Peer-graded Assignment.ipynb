{
 "cells": [
  {
   "cell_type": "markdown",
   "id": "b882a9ab-228a-408e-a6c4-8a3ca3adcf3a",
   "metadata": {},
   "source": [
    "# Peer-Graded Assignment -> The final exam"
   ]
  },
  {
   "cell_type": "markdown",
   "id": "1ea8ba93-a731-4e91-998d-ffe4aa305902",
   "metadata": {},
   "source": [
    "#### Here we will be a list of excercises using Markdown Cells and Coding cells inside a Jupyter Notebook"
   ]
  },
  {
   "cell_type": "markdown",
   "id": "12ec3f37-3d0e-4644-a289-20738cbfd9b4",
   "metadata": {},
   "source": [
    "List of Data Science Languages\n",
    "\n",
    "<ul>\n",
    "    <li>Python</li>\n",
    "    <li>R</li>\n",
    "    <li>Java</li>\n",
    "    <li>JavaScript</li>\n",
    "</ul>"
   ]
  },
  {
   "cell_type": "markdown",
   "id": "3b5d239b-e9c7-435b-81dd-d4e19180af67",
   "metadata": {},
   "source": [
    "List of Data Science Libraries\n",
    "\n",
    "<ul>\n",
    "    <li>Pandas</li>\n",
    "    <li>Numpy</li>\n",
    "    <li>scikit-learn</li>\n",
    "    <li>Seaborn</li>\n",
    "    <li>GGPlot (R)</li>\n",
    "</ul>"
   ]
  },
  {
   "cell_type": "markdown",
   "id": "6ca2a86a-40fb-4567-8c5c-8290fd62fdd5",
   "metadata": {},
   "source": [
    "<table>\n",
    "  <tr>\n",
    "    <th>Data Science Tool</th>\n",
    "  </tr>\n",
    "  <tr>\n",
    "    <td>TensorFlow</td>\n",
    "  </tr>\n",
    "  <tr>\n",
    "    <td>Excel</td>\n",
    "  </tr>\n",
    "  <tr>\n",
    "    <td>IBM Watson Studio</td>\n",
    "  </tr>\n",
    "  <tr>\n",
    "    <td>Apache Spark</td>\n",
    "  </tr>\n",
    "  <tr>\n",
    "    <td>Git</td>\n",
    "  </tr>\n",
    "  <tr>\n",
    "    <td>SQL</td>\n",
    "  </tr>\n",
    "</table> "
   ]
  },
  {
   "cell_type": "markdown",
   "id": "7a941a33-484c-4190-9857-b47de17c1348",
   "metadata": {},
   "source": [
    "In the following cells we will show some arithmetic expression using some python languages, like sum and moltiplication"
   ]
  },
  {
   "cell_type": "code",
   "execution_count": 6,
   "id": "d489114b-bab9-4971-bc5e-327cea0b3df5",
   "metadata": {},
   "outputs": [
    {
     "name": "stdout",
     "output_type": "stream",
     "text": [
      "7\n",
      "12\n"
     ]
    }
   ],
   "source": [
    "print(3 + 4)\n",
    "print(3 * 4)"
   ]
  },
  {
   "cell_type": "code",
   "execution_count": 10,
   "id": "05209008-1585-4fa5-be8a-397cfa40cebd",
   "metadata": {},
   "outputs": [
    {
     "name": "stdout",
     "output_type": "stream",
     "text": [
      "6.0\n"
     ]
    }
   ],
   "source": [
    "minutes = 360\n",
    "hours = 360/60\n",
    "print(hours)"
   ]
  },
  {
   "cell_type": "markdown",
   "id": "9d46ad70-19b5-474b-9068-4a546c9a311c",
   "metadata": {},
   "source": [
    "<ul>\n",
    "    <li>List</li>\n",
    "    <li>Of</li>\n",
    "    <li>Objective</li>\n",
    "</ul>"
   ]
  },
  {
   "cell_type": "markdown",
   "id": "674d085f-c9b3-45e4-a99f-0889d08c00c2",
   "metadata": {},
   "source": [
    "### Author: Alessandro Leonelli"
   ]
  },
  {
   "cell_type": "code",
   "execution_count": null,
   "id": "6682f4db-9ff3-4220-af3c-0fe391fa0721",
   "metadata": {},
   "outputs": [],
   "source": []
  }
 ],
 "metadata": {
  "kernelspec": {
   "display_name": "Python 3 (ipykernel)",
   "language": "python",
   "name": "python3"
  },
  "language_info": {
   "codemirror_mode": {
    "name": "ipython",
    "version": 3
   },
   "file_extension": ".py",
   "mimetype": "text/x-python",
   "name": "python",
   "nbconvert_exporter": "python",
   "pygments_lexer": "ipython3",
   "version": "3.9.13"
  }
 },
 "nbformat": 4,
 "nbformat_minor": 5
}
