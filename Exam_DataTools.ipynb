{
 "cells": [
  {
   "cell_type": "markdown",
   "id": "f01e23fc-b739-4d39-95f3-acc93cc833d5",
   "metadata": {},
   "source": [
    "<h1>My Jupyter Notebook on IBM Watson Studio</h1>"
   ]
  },
  {
   "cell_type": "markdown",
   "id": "16b76216-927a-4219-a380-055e3d4a41bd",
   "metadata": {},
   "source": [
    "__Alessandro Leonelli__\n",
    "\n",
    "Currently working as an IT Technician but trying to develop new skills in the Machine Learning and AI area of information technology"
   ]
  },
  {
   "cell_type": "markdown",
   "id": "fa9af3d4-697c-4ec7-b839-c28894f8ff1d",
   "metadata": {},
   "source": [
    "_Interested in data science because I'am a person driven from tangible things, like numbers and plots_"
   ]
  },
  {
   "cell_type": "markdown",
   "id": "2c87f552-5328-4b5e-8856-cc157c3cce91",
   "metadata": {},
   "source": [
    "### The next code tile will print a sum of two integer numbers using some Python Code"
   ]
  },
  {
   "cell_type": "code",
   "execution_count": 2,
   "id": "b9f0eb23-365e-4b48-861e-e5198ca0c3f6",
   "metadata": {},
   "outputs": [
    {
     "name": "stdout",
     "output_type": "stream",
     "text": [
      "5\n"
     ]
    }
   ],
   "source": [
    "print(2+3)"
   ]
  },
  {
   "cell_type": "markdown",
   "id": "907ed286-7925-48d6-8cd5-5425b13af891",
   "metadata": {},
   "source": [
    "##### Unordered list with one href\n",
    "<ul>\n",
    "    <li><a href=\"https://www.amazon.com/Amazon-Fresh-Espresso-Compatible-Nespresso/dp/B09P1BSW8Z/ref=sr_1_1_sspa?keywords=coffee&qid=1677937133&sr=8-1-spons&psc=1&spLa=ZW5jcnlwdGVkUXVhbGlmaWVyPUEySFo1SkhXVFg2NlRFJmVuY3J5cHRlZElkPUEwMDA3OTg3QzZIQURHSVZNUFkwJmVuY3J5cHRlZEFkSWQ9QTAwMzMyMzExTlY4R1lSMFhPTDNWJndpZGdldE5hbWU9c3BfYXRmJmFjdGlvbj1jbGlja1JlZGlyZWN0JmRvTm90TG9nQ2xpY2s9dHJ1ZQ==\">Amazon Coffee</a></li>\n",
    "  <li>Tea</li>\n",
    "  <li>Milk</li>\n",
    "</ul> \n",
    "\n",
    "##### Table of cars\n",
    "<table>\n",
    "  <tr>\n",
    "    <th>Company</th>\n",
    "    <th>Model</th>\n",
    "    <th>MazSpeed</th>\n",
    "  </tr>\n",
    "  <tr>\n",
    "    <td>Renault</td>\n",
    "    <td>Twingo</td>\n",
    "    <td>167</td>\n",
    "  </tr>\n",
    "  <tr>\n",
    "    <td>BMW</td>\n",
    "    <td>M1</td>\n",
    "    <td>214</td>\n",
    "  </tr>\n",
    "</table> "
   ]
  },
  {
   "cell_type": "code",
   "execution_count": null,
   "id": "6ef3da95-ae5a-42c0-85fe-345a096e785e",
   "metadata": {},
   "outputs": [],
   "source": []
  }
 ],
 "metadata": {
  "kernelspec": {
   "display_name": "Python 3 (ipykernel)",
   "language": "python",
   "name": "python3"
  },
  "language_info": {
   "codemirror_mode": {
    "name": "ipython",
    "version": 3
   },
   "file_extension": ".py",
   "mimetype": "text/x-python",
   "name": "python",
   "nbconvert_exporter": "python",
   "pygments_lexer": "ipython3",
   "version": "3.9.13"
  }
 },
 "nbformat": 4,
 "nbformat_minor": 5
}
